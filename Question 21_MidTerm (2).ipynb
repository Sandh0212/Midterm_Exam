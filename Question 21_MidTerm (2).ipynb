{
  "metadata": {
    "kernelspec": {
      "name": "python",
      "display_name": "Python (Pyodide)",
      "language": "python"
    },
    "language_info": {
      "codemirror_mode": {
        "name": "python",
        "version": 3
      },
      "file_extension": ".py",
      "mimetype": "text/x-python",
      "name": "python",
      "nbconvert_exporter": "python",
      "pygments_lexer": "ipython3",
      "version": "3.8"
    }
  },
  "nbformat_minor": 4,
  "nbformat": 4,
  "cells": [
    {
      "cell_type": "markdown",
      "source": "In a jupyter notebook solve the following question. Please upload the notebook to GitHub and provide the link submission box below.\n\nint(): Constructor that takes as input a pair of Point objects that represent the ends points of the line segment\n\nLength():: returns the length if the segment\n\nSlope() returns the slope of the segment of none if the slope is unbounded\n\np1 = Point(3,4)\n\np2 = Point()\n\ns = Segment(p1,p2)\n\ns.length()\n\n5.0\n\ns.slope()\n\n0.75*",
      "metadata": {}
    },
    {
      "cell_type": "code",
      "source": "import math\n\nclass Point:\n    def __init__(self, x=0, y=0):\n        self.x_coordinate = x\n        self.y_coordinate = y\n\nclass Segment:\n    def __init__(self, start_point, end_point):\n        self.start_point = start_point\n        self.end_point = end_point\n\n    def length(self):\n        return math.hypot(self.end_point.x_coordinate - self.start_point.x_coordinate, self.end_point.y_coordinate - self.start_point.y_coordinate)\n\n    def slope(self):\n        return (self.end_point.y_coordinate - self.start_point.y_coordinate) / (self.end_point.x_coordinate - self.start_point.x_coordinate) if self.end_point.x_coordinate != self.start_point.x_coordinate else None\n\np1 = Point(4, 3)\np2 = Point()\ns = Segment(p1, p2)\n\nlength = s.length()\nslope = s.slope()\n\nprint(\"Length of segment:\", length)\nprint(\"Slope of segment:\", slope)\n",
      "metadata": {
        "trusted": true
      },
      "outputs": [
        {
          "name": "stdout",
          "text": "Length of segment: 5.0\nSlope of segment: 0.75\n",
          "output_type": "stream"
        }
      ],
      "execution_count": 8
    },
    {
      "cell_type": "code",
      "source": "",
      "metadata": {
        "trusted": true
      },
      "outputs": [],
      "execution_count": null
    }
  ]
}