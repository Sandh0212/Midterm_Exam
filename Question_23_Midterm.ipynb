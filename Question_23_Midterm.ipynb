{
 "cells": [
  {
   "cell_type": "markdown",
   "id": "ede5abb6",
   "metadata": {},
   "source": [
    "Develop a recursive function tough() that takes two nonnegative integer arguments and outputs a pattern as shown below. Hint: The first argument represents the indentation of the pattern, where the second argument -- always a pattern of 2 indicates the number *s in the longest line of *s in the pattern"
   ]
  },
  {
   "cell_type": "code",
   "execution_count": 1,
   "id": "c6ba389f",
   "metadata": {},
   "outputs": [],
   "source": [
    "def f(indent, num):\n",
    "    if num > 0:\n",
    "        f(indent, num // 2)\n",
    "        print(\" \" * indent + \"*\" * num)\n",
    "        f(indent + 1, num // 2)"
   ]
  },
  {
   "cell_type": "code",
   "execution_count": 2,
   "id": "5002c51a",
   "metadata": {},
   "outputs": [
    {
     "name": "stdout",
     "output_type": "stream",
     "text": [
      "First: f(0,0)\n",
      "Second: f(0,1)\n",
      "*\n",
      "Third: f(0,2)\n",
      "*\n",
      "**\n",
      " *\n",
      "Fourth: f(0,4)\n",
      "*\n",
      "**\n",
      " *\n",
      "****\n",
      " *\n",
      " **\n",
      "  *\n",
      "Fifth: f(0,8)\n",
      "*\n",
      "**\n",
      " *\n",
      "****\n",
      " *\n",
      " **\n",
      "  *\n",
      "********\n",
      " *\n",
      " **\n",
      "  *\n",
      " ****\n",
      "  *\n",
      "  **\n",
      "   *\n"
     ]
    }
   ],
   "source": [
    "print(\"First: f(0,0)\")\n",
    "f(0, 0)\n",
    "print(\"Second: f(0,1)\")\n",
    "f(0, 1)\n",
    "print(\"Third: f(0,2)\")\n",
    "f(0, 2)\n",
    "print(\"Fourth: f(0,4)\")\n",
    "f(0, 4)\n",
    "print(\"Fifth: f(0,8)\")\n",
    "f(0, 8)"
   ]
  },
  {
   "cell_type": "code",
   "execution_count": null,
   "id": "fd72d333",
   "metadata": {},
   "outputs": [],
   "source": []
  }
 ],
 "metadata": {
  "kernelspec": {
   "display_name": "Python 3 (ipykernel)",
   "language": "python",
   "name": "python3"
  },
  "language_info": {
   "codemirror_mode": {
    "name": "ipython",
    "version": 3
   },
   "file_extension": ".py",
   "mimetype": "text/x-python",
   "name": "python",
   "nbconvert_exporter": "python",
   "pygments_lexer": "ipython3",
   "version": "3.11.5"
  }
 },
 "nbformat": 4,
 "nbformat_minor": 5
}
